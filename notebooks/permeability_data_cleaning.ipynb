{
 "cells": [
  {
   "cell_type": "code",
   "execution_count": 1,
   "metadata": {},
   "outputs": [],
   "source": [
    "import pandas as pd"
   ]
  },
  {
   "cell_type": "code",
   "execution_count": 2,
   "metadata": {},
   "outputs": [],
   "source": [
    "data_path = '../data/permeability/permeability_raw_mod.csv'\n",
    "\n",
    "df = pd.read_csv(data_path)"
   ]
  },
  {
   "cell_type": "code",
   "execution_count": 3,
   "metadata": {},
   "outputs": [],
   "source": [
    "columns_to_remove = ['PUBCHEM_SID', 'PUBCHEM_CID', 'ID']\n",
    "\n",
    "df = df.drop(columns=columns_to_remove)"
   ]
  },
  {
   "cell_type": "code",
   "execution_count": 4,
   "metadata": {},
   "outputs": [
    {
     "name": "stdout",
     "output_type": "stream",
     "text": [
      "Sample of rows showing SMILES_ISO and SMILES:\n",
      "                                          SMILES_ISO SMILES\n",
      "0                         CCCCOC1=CC=C(C=C1)CC(=O)NO    NaN\n",
      "1            COC1=C(C=C(C=C1)CCN2C(=CC(=O)NC2=S)N)OC    NaN\n",
      "2  COC1=C(C=C(C=C1)Cl)C(=O)NC2=CC=C(C=C2)NC(=O)C3...    NaN\n",
      "3      CC(C)(C)N1C2=NC=NC(=C2C(=N1)C3=CC=C(C=C3)Cl)N    NaN\n",
      "4  CN1C2=CC=CC=C2C(=O)C3=C1N=C(N(C3=O)C4=CC=CC=C4...    NaN\n",
      "5  CC1=C(C=C(C=C1)NS(=O)(=O)C2=CC=CC(=C2)C(=O)O)S...    NaN\n",
      "6  COC1=CC(=CC(=C1O)OC)C2=NC(=C(N2)C3=CC=CS3)C4=C...    NaN\n",
      "7                  CN(C)C1=C2C(=C(SC2=NC=C1)C(=O)N)N    NaN\n",
      "8  CC(C)(C)C1CCC2=C(C1)SC(=C2C(=O)N)NC(=O)C3=CC=N...    NaN\n",
      "9    C1=CC=C2C(=C1)C(=N)N(N=N2)C3=CC=C(C=C3)C(F)(F)F    NaN\n"
     ]
    }
   ],
   "source": [
    "print(\"Sample of rows showing SMILES_ISO and SMILES:\")\n",
    "print(df[['SMILES_ISO', 'SMILES']].head(10))"
   ]
  },
  {
   "cell_type": "code",
   "execution_count": 5,
   "metadata": {},
   "outputs": [],
   "source": [
    "df['SMILES_combined'] = df['SMILES_ISO'].fillna(df['SMILES'])"
   ]
  },
  {
   "cell_type": "code",
   "execution_count": 6,
   "metadata": {},
   "outputs": [
    {
     "name": "stdout",
     "output_type": "stream",
     "text": [
      "Number of missing values in SMILES_combined: 0\n",
      "Number of missing values in SMILES: 5631\n",
      "Number of missing values in SMILES_ISO: 786\n"
     ]
    }
   ],
   "source": [
    "print(f\"Number of missing values in SMILES_combined: {df['SMILES_combined'].isna().sum()}\")\n",
    "print(f\"Number of missing values in SMILES: {df['SMILES'].isna().sum()}\")\n",
    "print(f\"Number of missing values in SMILES_ISO: {df['SMILES_ISO'].isna().sum()}\")\n"
   ]
  },
  {
   "cell_type": "code",
   "execution_count": 7,
   "metadata": {},
   "outputs": [],
   "source": [
    "df = df.drop(['SMILES_ISO', 'SMILES'], axis=1)"
   ]
  },
  {
   "cell_type": "code",
   "execution_count": 8,
   "metadata": {},
   "outputs": [],
   "source": [
    "df = df.rename(columns={'SMILES_combined': 'SMILES'})"
   ]
  },
  {
   "cell_type": "code",
   "execution_count": 9,
   "metadata": {},
   "outputs": [],
   "source": [
    "columns = df.columns.tolist()\n",
    "columns.remove('SMILES')\n",
    "columns = ['SMILES'] + columns\n",
    "df = df[columns]"
   ]
  },
  {
   "cell_type": "code",
   "execution_count": 10,
   "metadata": {},
   "outputs": [
    {
     "name": "stdout",
     "output_type": "stream",
     "text": [
      "Number of rows in CLASSES: 6417\n",
      "Number of rows after dropping NA in CLASSES: 5922\n",
      "Number of NA values check: 0\n"
     ]
    }
   ],
   "source": [
    "print(f\"Number of rows in CLASSES: {len(df)}\")\n",
    "df = df.dropna(subset=['CLASSES'])\n",
    "print(f\"Number of rows after dropping NA in CLASSES: {len(df)}\")\n",
    "print(f\"Number of NA values check: {df['CLASSES'].isna().sum()}\")\n"
   ]
  },
  {
   "cell_type": "code",
   "execution_count": 11,
   "metadata": {},
   "outputs": [
    {
     "name": "stdout",
     "output_type": "stream",
     "text": [
      "Number of duplicate SMILES: 2855\n",
      "\n",
      "Shape before removing duplicates: (5922, 16)\n",
      "Shape after removing duplicates: (3067, 16)\n",
      "\n",
      "Verifying - Number of remaining duplicate SMILES: 0\n"
     ]
    }
   ],
   "source": [
    "# First, let's check duplicates based on SMILES column only\n",
    "print(f\"Number of duplicate SMILES: {df.duplicated(subset=['SMILES']).sum()}\")\n",
    "\n",
    "# Remove duplicates based only on SMILES column (keeping the first occurrence)\n",
    "df_no_duplicates = df.drop_duplicates(subset=['SMILES'])\n",
    "\n",
    "# Print the shape of the DataFrame before and after removing duplicates\n",
    "print(f\"\\nShape before removing duplicates: {df.shape}\")\n",
    "print(f\"Shape after removing duplicates: {df_no_duplicates.shape}\")\n",
    "\n",
    "# Assign back to df\n",
    "df = df_no_duplicates\n",
    "\n",
    "# Verify no SMILES duplicates remain\n",
    "print(f\"\\nVerifying - Number of remaining duplicate SMILES: {df.duplicated(subset=['SMILES']).sum()}\")\n"
   ]
  },
  {
   "cell_type": "code",
   "execution_count": 12,
   "metadata": {},
   "outputs": [
    {
     "data": {
      "text/plain": [
       "CLASSES\n",
       "1.0    2196\n",
       "0.0     871\n",
       "Name: count, dtype: int64"
      ]
     },
     "execution_count": 12,
     "metadata": {},
     "output_type": "execute_result"
    }
   ],
   "source": [
    "# Get value counts for CLASSES\n",
    "df['CLASSES'].value_counts()"
   ]
  },
  {
   "cell_type": "code",
   "execution_count": 13,
   "metadata": {},
   "outputs": [],
   "source": [
    "df['CLASSES_2'] = df['CLASSES']\n",
    "phenotype_col = 'Phenotype (0-10 = Low Permeability; 10-100 = Moderate Permeability; >100 = High Permeability)'\n",
    "df.loc[df[phenotype_col] == 'Moderate', 'CLASSES_2'] = 0"
   ]
  },
  {
   "cell_type": "code",
   "execution_count": 14,
   "metadata": {},
   "outputs": [
    {
     "data": {
      "text/plain": [
       "CLASSES_2\n",
       "1.0    1772\n",
       "0.0    1295\n",
       "Name: count, dtype: int64"
      ]
     },
     "execution_count": 14,
     "metadata": {},
     "output_type": "execute_result"
    }
   ],
   "source": [
    "# Get value counts for CLASSES\n",
    "df['CLASSES_2'].value_counts()"
   ]
  },
  {
   "cell_type": "code",
   "execution_count": 15,
   "metadata": {},
   "outputs": [],
   "source": [
    "# Save the cleaned dataframe to a CSV file\n",
    "output_path = '../data/permeability/permeability_cleaned.csv'\n",
    "df.to_csv(output_path, index=False, na_rep='N/A')\n",
    "\n"
   ]
  }
 ],
 "metadata": {
  "kernelspec": {
   "display_name": "protac",
   "language": "python",
   "name": "python3"
  },
  "language_info": {
   "codemirror_mode": {
    "name": "ipython",
    "version": 3
   },
   "file_extension": ".py",
   "mimetype": "text/x-python",
   "name": "python",
   "nbconvert_exporter": "python",
   "pygments_lexer": "ipython3",
   "version": "3.12.8"
  }
 },
 "nbformat": 4,
 "nbformat_minor": 2
}
